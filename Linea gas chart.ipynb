{
 "cells": [
  {
   "cell_type": "code",
   "execution_count": 1,
   "id": "9d7e2e0c",
   "metadata": {
    "scrolled": false
   },
   "outputs": [],
   "source": [
    "import pandas as pd\n",
    "import matplotlib.pyplot as plt\n",
    "import plotly.graph_objects as go\n",
    "import time"
   ]
  },
  {
   "cell_type": "code",
   "execution_count": 2,
   "id": "7f8f4fc5",
   "metadata": {},
   "outputs": [],
   "source": [
    "wdir = '~\\\\Documents\\\\Python Scripts\\\\'"
   ]
  },
  {
   "cell_type": "code",
   "execution_count": 3,
   "id": "43e25722",
   "metadata": {},
   "outputs": [
    {
     "data": {
      "application/vnd.jupyter.widget-view+json": {
       "model_id": "ce54e58d1e35419aa6ffba4593dded5c",
       "version_major": 2,
       "version_minor": 0
      },
      "text/plain": [
       "FigureWidget({\n",
       "    'data': [],\n",
       "    'layout': {'template': '...',\n",
       "               'title': {'font': {'size': 20}…"
      ]
     },
     "metadata": {},
     "output_type": "display_data"
    }
   ],
   "source": [
    "## This is the live chart\n",
    "f = go.FigureWidget()\n",
    "f.update_xaxes(title_text=\"Time\")\n",
    "f.update_yaxes(title_text=\"Gwei\")\n",
    "f.update_layout(title_text='Gas in Linea testnet', title_font_size=20, title_xanchor='left', title_x=0.4)\n",
    "f"
   ]
  },
  {
   "cell_type": "markdown",
   "id": "bcaa23d1",
   "metadata": {},
   "source": [
    "Run this:"
   ]
  },
  {
   "cell_type": "code",
   "execution_count": null,
   "id": "e492b83b",
   "metadata": {},
   "outputs": [],
   "source": [
    "import pandas as pd\n",
    "import time\n",
    "\n",
    "df_gas = pd.read_csv(wdir+'gas_linea.tab', sep='\\t', index_col=None, header=0, names=['Time', 'gwei'])\n",
    "f.add_scatter(x=df_gas.Time, y=df_gas.gwei)\n",
    "\n",
    "# Set axes titles\n",
    "\n",
    "while True:\n",
    "    df_gas = pd.read_csv(wdir+'gas_linea.tab', sep='\\t', index_col=None, header=0, names=['Time', 'gwei'])\n",
    "    scatter = f.data[0]\n",
    "    scatter.x = df_gas.Time\n",
    "    scatter.y = df_gas.gwei\n",
    "    time.sleep(2)"
   ]
  }
 ],
 "metadata": {
  "kernelspec": {
   "display_name": "Python 3 (ipykernel)",
   "language": "python",
   "name": "python3"
  },
  "language_info": {
   "codemirror_mode": {
    "name": "ipython",
    "version": 3
   },
   "file_extension": ".py",
   "mimetype": "text/x-python",
   "name": "python",
   "nbconvert_exporter": "python",
   "pygments_lexer": "ipython3",
   "version": "3.8.12"
  }
 },
 "nbformat": 4,
 "nbformat_minor": 5
}
